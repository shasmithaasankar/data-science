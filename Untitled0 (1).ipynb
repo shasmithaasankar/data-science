{
  "nbformat": 4,
  "nbformat_minor": 0,
  "metadata": {
    "colab": {
      "provenance": []
    },
    "kernelspec": {
      "name": "python3",
      "display_name": "Python 3"
    },
    "language_info": {
      "name": "python"
    }
  },
  "cells": [
    {
      "cell_type": "code",
      "execution_count": null,
      "metadata": {
        "id": "ihQoEcUU6ofq"
      },
      "outputs": [],
      "source": [
        "import pandas as pd\n",
        "import numpy as np\n",
        "exam_data = {'name': ['Anastasia', 'Dima', 'Katherine', 'James', 'Emily', 'Michael', 'Matthew', 'Laura', 'Kevin', 'Jonas'],\n",
        "\n",
        "'score': [12.5, 9, 16.5, np.nan, 9, 20, 14.5, np.nan, 8, 19],\n",
        "\n",
        "'attempts': [1, 3, 4, 3, 5, 3, 6, 1, 7, 1] }\n",
        "\n",
        "\n",
        "\n",
        "\n",
        "\n"
      ]
    },
    {
      "cell_type": "code",
      "source": [],
      "metadata": {
        "id": "jV1rSg5eEL9T"
      },
      "execution_count": null,
      "outputs": []
    },
    {
      "cell_type": "code",
      "source": [],
      "metadata": {
        "id": "m8QFKNLkEXYv"
      },
      "execution_count": null,
      "outputs": []
    },
    {
      "cell_type": "markdown",
      "source": [],
      "metadata": {
        "id": "tmEDhOBM3KqG"
      }
    },
    {
      "cell_type": "markdown",
      "source": [],
      "metadata": {
        "id": "vEnKQrGU3KjL"
      }
    },
    {
      "cell_type": "code",
      "source": [],
      "metadata": {
        "id": "bWVFsQ3MqQx0"
      },
      "execution_count": null,
      "outputs": []
    },
    {
      "cell_type": "code",
      "source": [
        "df=pd.DataFrame(exam_data)\n",
        "print(df)"
      ],
      "metadata": {
        "colab": {
          "base_uri": "https://localhost:8080/"
        },
        "id": "X_lup5tQ8ODy",
        "outputId": "2f0546f4-a255-42e5-c417-72cbb05c83e8"
      },
      "execution_count": null,
      "outputs": [
        {
          "output_type": "stream",
          "name": "stdout",
          "text": [
            "        name  score  attempts\n",
            "0  Anastasia   12.5         1\n",
            "1       Dima    9.0         3\n",
            "2  Katherine   16.5         4\n",
            "3      James    NaN         3\n",
            "4      Emily    9.0         5\n",
            "5    Michael   20.0         3\n",
            "6    Matthew   14.5         6\n",
            "7      Laura    NaN         1\n",
            "8      Kevin    8.0         7\n",
            "9      Jonas   19.0         1\n"
          ]
        }
      ]
    },
    {
      "cell_type": "code",
      "source": [
        "print(df[['name','score']])"
      ],
      "metadata": {
        "colab": {
          "base_uri": "https://localhost:8080/"
        },
        "id": "AO6eQYcH9FdT",
        "outputId": "66c47c23-a07c-4852-bd9c-ca166f520474"
      },
      "execution_count": null,
      "outputs": [
        {
          "output_type": "stream",
          "name": "stdout",
          "text": [
            "        name  score\n",
            "0  Anastasia   12.5\n",
            "1       Dima    9.0\n",
            "2  Katherine   16.5\n",
            "3      James    NaN\n",
            "4      Emily    9.0\n",
            "5    Michael   20.0\n",
            "6    Matthew   14.5\n",
            "7      Laura    NaN\n",
            "8      Kevin    8.0\n",
            "9      Jonas   19.0\n"
          ]
        }
      ]
    },
    {
      "cell_type": "code",
      "source": [],
      "metadata": {
        "id": "wWxHBTJk-PN6"
      },
      "execution_count": null,
      "outputs": []
    },
    {
      "cell_type": "code",
      "source": [
        "import pandas as pd\n",
        "import numpy as np\n",
        "exam_data = {'name': ['Anastasia', 'Dima', 'Katherine', 'James', 'Emily', 'Michael', 'Matthew', 'Laura', 'Kevin', 'Jonas'],\n",
        "\n",
        "'score': [12.5, 9, 16.5, np.nan, 9, 20, 14.5, np.nan, 8, 19],\n",
        "\n",
        "'attempts': [1, 3, 4, 3, 5, 3, 6, 1, 7, 1] }\n",
        "print(df[df['attempts']>3])"
      ],
      "metadata": {
        "colab": {
          "base_uri": "https://localhost:8080/"
        },
        "id": "up6v517D9rzg",
        "outputId": "afbbd733-3fe8-450d-bd49-2eb60deb19b5"
      },
      "execution_count": null,
      "outputs": [
        {
          "output_type": "stream",
          "name": "stdout",
          "text": [
            "        name  score  attempts\n",
            "2  Katherine   16.5         4\n",
            "4      Emily    9.0         5\n",
            "6    Matthew   14.5         6\n",
            "8      Kevin    8.0         7\n"
          ]
        }
      ]
    },
    {
      "cell_type": "code",
      "source": [
        "import pandas as pd\n",
        "import numpy as np\n",
        "data = {'name': ['Alice', 'Bob', 'Charlie', 'Dave'],\n",
        "\n",
        " 'age': [25, 35, 40, 28],\n",
        "\n",
        " 'gender': ['F', 'M', 'M', 'M'],\n",
        "\n",
        "'salary': [50000, 70000, 60000, 80000]}\n",
        "\n",
        "df = pd.DataFrame(data)\n",
        "print(df)"
      ],
      "metadata": {
        "colab": {
          "base_uri": "https://localhost:8080/"
        },
        "id": "mdFUF91l_MCp",
        "outputId": "8e8e6ce5-53e7-4809-bd2d-06eff8a78acb"
      },
      "execution_count": null,
      "outputs": [
        {
          "output_type": "stream",
          "name": "stdout",
          "text": [
            "      name  age gender  salary\n",
            "0    Alice   25      F   50000\n",
            "1      Bob   35      M   70000\n",
            "2  Charlie   40      M   60000\n",
            "3     Dave   28      M   80000\n"
          ]
        }
      ]
    },
    {
      "cell_type": "code",
      "source": [
        "rows=df[df['age']>30]\n",
        "print(rows)"
      ],
      "metadata": {
        "colab": {
          "base_uri": "https://localhost:8080/"
        },
        "id": "WyVT2ZRk_bzt",
        "outputId": "167785e5-dac4-4a06-8393-c123500a70fe"
      },
      "execution_count": null,
      "outputs": [
        {
          "output_type": "stream",
          "name": "stdout",
          "text": [
            "      name  age gender  salary\n",
            "1      Bob   35      M   70000\n",
            "2  Charlie   40      M   60000\n"
          ]
        }
      ]
    },
    {
      "cell_type": "code",
      "source": [
        "rows=df[df['name'].str.contains('e')]\n",
        "print(rows)"
      ],
      "metadata": {
        "colab": {
          "base_uri": "https://localhost:8080/"
        },
        "id": "qnwu0-CkAGDP",
        "outputId": "131c0e1e-a003-4878-c5b3-d4aadf72dba3"
      },
      "execution_count": null,
      "outputs": [
        {
          "output_type": "stream",
          "name": "stdout",
          "text": [
            "      name  age gender  salary\n",
            "0    Alice   25      F   50000\n",
            "2  Charlie   40      M   60000\n",
            "3     Dave   28      M   80000\n"
          ]
        }
      ]
    },
    {
      "cell_type": "code",
      "source": [
        "rows=df[(df['gender']=='M')&(df['salary']>65000)]\n",
        "print(rows)"
      ],
      "metadata": {
        "colab": {
          "base_uri": "https://localhost:8080/"
        },
        "id": "eUIDtbTdBPR0",
        "outputId": "de661ad7-32d3-4476-b20f-26ef6ea803fe"
      },
      "execution_count": null,
      "outputs": [
        {
          "output_type": "stream",
          "name": "stdout",
          "text": [
            "   name  age gender  salary\n",
            "1   Bob   35      M   70000\n",
            "3  Dave   28      M   80000\n"
          ]
        }
      ]
    },
    {
      "cell_type": "code",
      "source": [
        "print(df[['name','age']])"
      ],
      "metadata": {
        "colab": {
          "base_uri": "https://localhost:8080/"
        },
        "id": "C8Sap4CDCBMp",
        "outputId": "c2bd9f21-2348-42ec-8ac4-5dc963f6a215"
      },
      "execution_count": null,
      "outputs": [
        {
          "output_type": "stream",
          "name": "stdout",
          "text": [
            "      name  age\n",
            "0    Alice   25\n",
            "1      Bob   35\n",
            "2  Charlie   40\n",
            "3     Dave   28\n"
          ]
        }
      ]
    },
    {
      "cell_type": "code",
      "source": [
        "from google.colab import drive\n",
        "\n"
      ],
      "metadata": {
        "id": "wAsgB2BqFkrk"
      },
      "execution_count": null,
      "outputs": []
    },
    {
      "cell_type": "code",
      "source": [
        "drive.mount('/content/drive')"
      ],
      "metadata": {
        "colab": {
          "base_uri": "https://localhost:8080/"
        },
        "id": "DaUa_4AYG6Z-",
        "outputId": "1d6aab91-8745-49da-f124-3d973c9bad69"
      },
      "execution_count": null,
      "outputs": [
        {
          "output_type": "stream",
          "name": "stdout",
          "text": [
            "Drive already mounted at /content/drive; to attempt to forcibly remount, call drive.mount(\"/content/drive\", force_remount=True).\n"
          ]
        }
      ]
    },
    {
      "cell_type": "code",
      "source": [
        "ls drive/MyDrive/bank_train.csv"
      ],
      "metadata": {
        "colab": {
          "base_uri": "https://localhost:8080/"
        },
        "id": "U-7F9YS1IzCS",
        "outputId": "46a55778-a787-4abf-fe11-edef72059110"
      },
      "execution_count": null,
      "outputs": [
        {
          "output_type": "stream",
          "name": "stdout",
          "text": [
            "drive/MyDrive/bank_train.csv\n"
          ]
        }
      ]
    },
    {
      "cell_type": "code",
      "source": [
        "import pandas as pd\n",
        "from google.colab import drive\n",
        "drive.mount('/content/drive')\n"
      ],
      "metadata": {
        "colab": {
          "base_uri": "https://localhost:8080/"
        },
        "id": "_uDALYlYEZnR",
        "outputId": "79610e6d-bbb4-49c2-813d-f77f162fe0c6"
      },
      "execution_count": 1,
      "outputs": [
        {
          "output_type": "stream",
          "name": "stdout",
          "text": [
            "Mounted at /content/drive\n"
          ]
        }
      ]
    },
    {
      "cell_type": "code",
      "source": [
        "df=pd.read_csv('/content/drive/MyDrive/bank_train.csv')\n",
        "primary_edu_sub=df.loc[(df['education']=='primary')&(df['deposit']=='yes')]\n",
        "print(\"a.primary education subscribed:\\n\",primary_edu_sub)"
      ],
      "metadata": {
        "colab": {
          "base_uri": "https://localhost:8080/"
        },
        "id": "Hh395EC5E3AJ",
        "outputId": "f837899b-56ed-4236-ac2b-b35885531a47"
      },
      "execution_count": 2,
      "outputs": [
        {
          "output_type": "stream",
          "name": "stdout",
          "text": [
            "a.primary education subscribed:\n",
            "       age          job   marital education default  balance housing loan  \\\n",
            "29     39  blue-collar  divorced   primary      no   1317.0     yes   no   \n",
            "39     31   unemployed    single   primary      no    163.0      no   no   \n",
            "56     49  blue-collar    single   primary      no    566.0     yes   no   \n",
            "66     53  blue-collar   married   primary     yes   -462.0      no   no   \n",
            "103    42  blue-collar    single   primary      no   4930.0      no   no   \n",
            "...   ...          ...       ...       ...     ...      ...     ...  ...   \n",
            "4411   55    housemaid   married   primary      no      0.0     yes   no   \n",
            "4422   80      retired   married   primary      no   1468.0      no   no   \n",
            "4451   41  blue-collar   married   primary      no    143.0     yes  yes   \n",
            "4452   53  blue-collar   married   primary      no    421.0     yes   no   \n",
            "4458   32  blue-collar   married   primary      no   -454.0     yes  yes   \n",
            "\n",
            "       contact  day month  duration  campaign  pdays  previous poutcome  \\\n",
            "29    cellular   20   nov       543         1    170         4    other   \n",
            "39    cellular   30   jan       707         2      2         1    other   \n",
            "56    cellular   25   jul       979         2     -1         0  unknown   \n",
            "66    cellular   29   jan       470         1     -1         0  unknown   \n",
            "103    unknown   18   jun       973         1     -1         0  unknown   \n",
            "...        ...  ...   ...       ...       ...    ...       ...      ...   \n",
            "4411  cellular   17   jul      1303         2     -1         0  unknown   \n",
            "4422  cellular   13   jan       330         3     -1         0  unknown   \n",
            "4451   unknown    2   jun       659         2     -1         0  unknown   \n",
            "4452  cellular   20   nov       677         1     -1         0  unknown   \n",
            "4458  cellular   18   may       801         5    355         2  failure   \n",
            "\n",
            "     deposit  \n",
            "29       yes  \n",
            "39       yes  \n",
            "56       yes  \n",
            "66       yes  \n",
            "103      yes  \n",
            "...      ...  \n",
            "4411     yes  \n",
            "4422     yes  \n",
            "4451     yes  \n",
            "4452     yes  \n",
            "4458     yes  \n",
            "\n",
            "[243 rows x 17 columns]\n"
          ]
        }
      ]
    },
    {
      "cell_type": "code",
      "source": [
        "not_subscribed=df.loc[df['deposit']=='no']\n",
        "print(\"b.not subscribed:\\n\",not_subscribed )"
      ],
      "metadata": {
        "colab": {
          "base_uri": "https://localhost:8080/"
        },
        "id": "O-wWYtWDE6sG",
        "outputId": "773e105c-4295-476a-d259-d20069fd832e"
      },
      "execution_count": 3,
      "outputs": [
        {
          "output_type": "stream",
          "name": "stdout",
          "text": [
            "b.not subscribed:\n",
            "       age          job   marital  education default  balance housing loan  \\\n",
            "0      76      retired   married  secondary      no   2302.0      no   no   \n",
            "3      41  blue-collar   married  secondary      no    356.0     yes   no   \n",
            "6      59      retired   married  secondary      no    136.0      no   no   \n",
            "7      34  blue-collar   married    primary      no   5299.0     yes   no   \n",
            "9      44  blue-collar   married  secondary      no    879.0     yes   no   \n",
            "...   ...          ...       ...        ...     ...      ...     ...  ...   \n",
            "4457   43   management   married   tertiary      no   1336.0     yes  yes   \n",
            "4460   54      retired   married  secondary      no    522.0      no  yes   \n",
            "4461   33   management   married   tertiary      no    133.0     yes   no   \n",
            "4464   31   technician    single  secondary      no    628.0     yes   no   \n",
            "4465   70      retired  divorced    primary      no    383.0      no   no   \n",
            "\n",
            "        contact  day month  duration  campaign  pdays  previous poutcome  \\\n",
            "0     telephone    5   feb       110         1     87         2  failure   \n",
            "3      cellular   14   may        90         5     -1         0  unknown   \n",
            "6      cellular    6   aug       301         4     -1         0  unknown   \n",
            "7       unknown   26   jun        75         5     -1         0  unknown   \n",
            "9      cellular    3   apr       383         1     -1         0  unknown   \n",
            "...         ...  ...   ...       ...       ...    ...       ...      ...   \n",
            "4457   cellular   27   may        82         2    309         1  failure   \n",
            "4460   cellular   14   jul        81         3     -1         0  unknown   \n",
            "4461    unknown   26   may       308         4     -1         0  unknown   \n",
            "4464    unknown   12   may      1083         2     -1         0  unknown   \n",
            "4465   cellular   28   apr        50         2     -1         0  unknown   \n",
            "\n",
            "     deposit  \n",
            "0         no  \n",
            "3         no  \n",
            "6         no  \n",
            "7         no  \n",
            "9         no  \n",
            "...      ...  \n",
            "4457      no  \n",
            "4460      no  \n",
            "4461      no  \n",
            "4464      no  \n",
            "4465      no  \n",
            "\n",
            "[2354 rows x 17 columns]\n"
          ]
        }
      ]
    },
    {
      "cell_type": "code",
      "source": [
        "subscribed_housing_loan=df.loc[((df[\"deposit\"]=='yes')&(df['housing']=='yes')|(df['loan']=='yes'))]\n",
        "print(\"c.subscribed with housing or loan:\\n\",subscribed_housing_loan)"
      ],
      "metadata": {
        "colab": {
          "base_uri": "https://localhost:8080/"
        },
        "id": "1INpWFY7E_7C",
        "outputId": "1de4967b-99ea-407d-c1c4-f7d09e18e892"
      },
      "execution_count": 4,
      "outputs": [
        {
          "output_type": "stream",
          "name": "stdout",
          "text": [
            "c.subscribed with housing or loan:\n",
            "       age          job   marital  education default  balance housing loan  \\\n",
            "2      51   management   married   tertiary      no   2455.0     yes   no   \n",
            "4      51   technician   married  secondary      no  -1944.0     yes   no   \n",
            "12     32   management   married   tertiary      no   9214.0      no  yes   \n",
            "13     50     services  divorced  secondary     yes   -210.0      no  yes   \n",
            "14     41  blue-collar   married  secondary      no     97.0      no  yes   \n",
            "...   ...          ...       ...        ...     ...      ...     ...  ...   \n",
            "4458   32  blue-collar   married    primary      no   -454.0     yes  yes   \n",
            "4459   37   technician    single  secondary      no   3326.0     yes   no   \n",
            "4460   54      retired   married  secondary      no    522.0      no  yes   \n",
            "4462   39     services  divorced  secondary      no    687.0     yes   no   \n",
            "4463   40       admin.    single  secondary      no   2040.0     yes   no   \n",
            "\n",
            "       contact  day month  duration  campaign  pdays  previous poutcome  \\\n",
            "2     cellular   21   jul       553         1     -1         0  unknown   \n",
            "4     cellular    7   may       623         1     -1         0  unknown   \n",
            "12     unknown   18   oct        71         1     -1         0  unknown   \n",
            "13    cellular   21   aug       153         7     -1         0  unknown   \n",
            "14    cellular    8   jul       212         2     -1         0  unknown   \n",
            "...        ...  ...   ...       ...       ...    ...       ...      ...   \n",
            "4458  cellular   18   may       801         5    355         2  failure   \n",
            "4459   unknown   21   may       799         1     -1         0  unknown   \n",
            "4460  cellular   14   jul        81         3     -1         0  unknown   \n",
            "4462  cellular    9   jul       869         1     -1         0  unknown   \n",
            "4463  cellular   18   may       906         2    350         2  failure   \n",
            "\n",
            "     deposit  \n",
            "2        yes  \n",
            "4        yes  \n",
            "12        no  \n",
            "13        no  \n",
            "14        no  \n",
            "...      ...  \n",
            "4458     yes  \n",
            "4459     yes  \n",
            "4460      no  \n",
            "4462     yes  \n",
            "4463     yes  \n",
            "\n",
            "[1274 rows x 17 columns]\n"
          ]
        }
      ]
    },
    {
      "cell_type": "code",
      "source": [
        "secondary_edu_not_subscribed=df.loc[(df['education']==\"secondary\")&(df['deposit']=='no')]\n",
        "print(\"d.secondary education not subscribed:\\n\",secondary_edu_not_subscribed)"
      ],
      "metadata": {
        "colab": {
          "base_uri": "https://localhost:8080/"
        },
        "id": "cGr51ADWFDRN",
        "outputId": "ea958d59-c78b-4733-cb52-d3ca42a3fb77"
      },
      "execution_count": 5,
      "outputs": [
        {
          "output_type": "stream",
          "name": "stdout",
          "text": [
            "d.secondary education not subscribed:\n",
            "       age          job  marital  education default  balance housing loan  \\\n",
            "0      76      retired  married  secondary      no   2302.0      no   no   \n",
            "3      41  blue-collar  married  secondary      no    356.0     yes   no   \n",
            "6      59      retired  married  secondary      no    136.0      no   no   \n",
            "9      44  blue-collar  married  secondary      no    879.0     yes   no   \n",
            "10     34     services  married  secondary      no   1637.0     yes   no   \n",
            "...   ...          ...      ...        ...     ...      ...     ...  ...   \n",
            "4446   35     services  married  secondary      no      0.0     yes   no   \n",
            "4453   31     services  married  secondary      no    505.0      no   no   \n",
            "4456   54  blue-collar  married  secondary      no   -102.0     yes   no   \n",
            "4460   54      retired  married  secondary      no    522.0      no  yes   \n",
            "4464   31   technician   single  secondary      no    628.0     yes   no   \n",
            "\n",
            "        contact  day month  duration  campaign  pdays  previous poutcome  \\\n",
            "0     telephone    5   feb       110         1     87         2  failure   \n",
            "3      cellular   14   may        90         5     -1         0  unknown   \n",
            "6      cellular    6   aug       301         4     -1         0  unknown   \n",
            "9      cellular    3   apr       383         1     -1         0  unknown   \n",
            "10     cellular   21   nov       107         4     -1         0  unknown   \n",
            "...         ...  ...   ...       ...       ...    ...       ...      ...   \n",
            "4446   cellular   24   jul       810         1     -1         0  unknown   \n",
            "4453   cellular   11   jul       773         3     -1         0  unknown   \n",
            "4456   cellular   27   aug       164         7     -1         0  unknown   \n",
            "4460   cellular   14   jul        81         3     -1         0  unknown   \n",
            "4464    unknown   12   may      1083         2     -1         0  unknown   \n",
            "\n",
            "     deposit  \n",
            "0         no  \n",
            "3         no  \n",
            "6         no  \n",
            "9         no  \n",
            "10        no  \n",
            "...      ...  \n",
            "4446      no  \n",
            "4453      no  \n",
            "4456      no  \n",
            "4460      no  \n",
            "4464      no  \n",
            "\n",
            "[1229 rows x 17 columns]\n"
          ]
        }
      ]
    },
    {
      "cell_type": "code",
      "source": [
        "successful_campaign=df.loc[(df['deposit']=='yes')&(df['campaign']==True)]\n",
        "print(\"e.successful market campaign:\\n\",successful_campaign)"
      ],
      "metadata": {
        "colab": {
          "base_uri": "https://localhost:8080/"
        },
        "id": "vmKh61ULFIQw",
        "outputId": "db84bbf2-306c-4f9c-8eda-818440fd9e72"
      },
      "execution_count": 6,
      "outputs": [
        {
          "output_type": "stream",
          "name": "stdout",
          "text": [
            "e.successful market campaign:\n",
            "       age            job   marital  education default  balance housing loan  \\\n",
            "2      51     management   married   tertiary      no   2455.0     yes   no   \n",
            "4      51     technician   married  secondary      no  -1944.0     yes   no   \n",
            "5      77        retired   married    unknown      no   1807.0      no   no   \n",
            "19     76  self-employed   married    unknown      no   4984.0      no   no   \n",
            "21     33         admin.   married   tertiary      no     79.0     yes   no   \n",
            "...   ...            ...       ...        ...     ...      ...     ...  ...   \n",
            "4440   24         admin.    single   tertiary      no    674.0     yes   no   \n",
            "4445   60  self-employed   married   tertiary      no  10861.0      no   no   \n",
            "4452   53    blue-collar   married    primary      no    421.0     yes   no   \n",
            "4459   37     technician    single  secondary      no   3326.0     yes   no   \n",
            "4462   39       services  divorced  secondary      no    687.0     yes   no   \n",
            "\n",
            "        contact  day month  duration  campaign  pdays  previous poutcome  \\\n",
            "2      cellular   21   jul       553         1     -1         0  unknown   \n",
            "4      cellular    7   may       623         1     -1         0  unknown   \n",
            "5     telephone   20   oct       373         1     -1         0  unknown   \n",
            "19    telephone   28   apr       403         1    182         1  success   \n",
            "21     cellular    5   may       389         1    195         4  success   \n",
            "...         ...  ...   ...       ...       ...    ...       ...      ...   \n",
            "4440   cellular    6   jul       267         1     -1         0  unknown   \n",
            "4445   cellular    9   nov        98         1     91         2  failure   \n",
            "4452   cellular   20   nov       677         1     -1         0  unknown   \n",
            "4459    unknown   21   may       799         1     -1         0  unknown   \n",
            "4462   cellular    9   jul       869         1     -1         0  unknown   \n",
            "\n",
            "     deposit  \n",
            "2        yes  \n",
            "4        yes  \n",
            "5        yes  \n",
            "19       yes  \n",
            "21       yes  \n",
            "...      ...  \n",
            "4440     yes  \n",
            "4445     yes  \n",
            "4452     yes  \n",
            "4459     yes  \n",
            "4462     yes  \n",
            "\n",
            "[1019 rows x 17 columns]\n"
          ]
        }
      ]
    },
    {
      "cell_type": "code",
      "source": [
        "unemployed_not_subscribed=df.loc[(df['job']=='unemployed')&(df['deposit']==\"no\")]\n",
        "print(\"f.unemployed not subscribed for deposit:\\n\",unemployed_not_subscribed)"
      ],
      "metadata": {
        "colab": {
          "base_uri": "https://localhost:8080/"
        },
        "id": "h9GcfWVzFLTC",
        "outputId": "e991de88-6efb-4acd-8713-9e5afe7531ba"
      },
      "execution_count": 7,
      "outputs": [
        {
          "output_type": "stream",
          "name": "stdout",
          "text": [
            "f.unemployed not subscribed for deposit:\n",
            "       age         job   marital  education default  balance housing loan  \\\n",
            "74     37  unemployed    single  secondary      no     48.0      no   no   \n",
            "304    48  unemployed   married  secondary      no    855.0     yes   no   \n",
            "404    57  unemployed   married    primary      no      0.0     yes   no   \n",
            "464    47  unemployed  divorced  secondary      no    947.0      no   no   \n",
            "494    45  unemployed   married   tertiary      no   1148.0      no   no   \n",
            "550    55  unemployed   married    primary      no   8585.0      no   no   \n",
            "644    35  unemployed    single  secondary      no   2116.0     yes   no   \n",
            "690    31  unemployed    single    unknown      no    167.0      no   no   \n",
            "705    42  unemployed  divorced  secondary      no    759.0      no   no   \n",
            "811    38  unemployed   married  secondary      no    995.0      no   no   \n",
            "821    43  unemployed   married  secondary      no   1943.0     yes   no   \n",
            "827    52  unemployed   married  secondary      no   1639.0      no   no   \n",
            "856    31  unemployed   married  secondary      no     20.0      no   no   \n",
            "966    42  unemployed   married  secondary      no   -165.0     yes  yes   \n",
            "967    57  unemployed   married  secondary      no   1350.0      no   no   \n",
            "1003   35  unemployed   married  secondary      no   2080.0     yes   no   \n",
            "1123   50  unemployed   married  secondary      no   3478.0     yes   no   \n",
            "1236   43  unemployed  divorced  secondary      no   1854.0      no   no   \n",
            "1351   38  unemployed  divorced  secondary      no    189.0     yes  yes   \n",
            "1424   40  unemployed  divorced  secondary      no    262.0     yes   no   \n",
            "1633   41  unemployed    single   tertiary      no   4517.0     yes   no   \n",
            "1828   31  unemployed    single  secondary      no    209.0     yes   no   \n",
            "1848   41  unemployed   married    primary      no    183.0     yes   no   \n",
            "1850   30  unemployed   married  secondary      no    142.0     yes   no   \n",
            "1961   58  unemployed   married  secondary      no    610.0     yes   no   \n",
            "2060   33  unemployed    single  secondary      no    233.0     yes   no   \n",
            "2184   41  unemployed  divorced  secondary      no    271.0     yes   no   \n",
            "2292   40  unemployed   married  secondary      no   1289.0      no   no   \n",
            "2308   50  unemployed   married  secondary      no    297.0     yes   no   \n",
            "2364   43  unemployed   married  secondary      no    553.0      no   no   \n",
            "2464   55  unemployed   married    primary      no   1221.0      no  yes   \n",
            "2513   55  unemployed   married  secondary      no    512.0      no   no   \n",
            "2603   33  unemployed    single  secondary      no    682.0      no   no   \n",
            "2681   40  unemployed   married   tertiary      no   2430.0      no   no   \n",
            "2699   52  unemployed   married   tertiary      no   2133.0      no  yes   \n",
            "2754   55  unemployed   married   tertiary      no   5345.0      no   no   \n",
            "2762   43  unemployed   married  secondary      no    775.0      no   no   \n",
            "2827   54  unemployed    single  secondary      no   3611.0     yes   no   \n",
            "2913   44  unemployed   married    primary      no     97.0     yes   no   \n",
            "2929   40  unemployed   married  secondary      no   1077.0     yes  yes   \n",
            "3145   36  unemployed   married  secondary      no    439.0     yes   no   \n",
            "3263   47  unemployed    single  secondary      no   4819.0      no   no   \n",
            "3313   45  unemployed    single  secondary      no    382.0     yes  yes   \n",
            "3556   40  unemployed   married  secondary      no    219.0     yes   no   \n",
            "3704   59  unemployed    single  secondary      no    865.0      no   no   \n",
            "3733   46  unemployed  divorced  secondary      no      0.0      no   no   \n",
            "3745   58  unemployed    single   tertiary      no   2094.0      no   no   \n",
            "3905   33  unemployed   married   tertiary      no   3335.0      no   no   \n",
            "3949   46  unemployed   married  secondary      no   2940.0     yes   no   \n",
            "4027   36  unemployed    single   tertiary      no    221.0      no   no   \n",
            "4066   42  unemployed   married   tertiary      no      0.0      no   no   \n",
            "4102   30  unemployed    single  secondary      no      0.0     yes   no   \n",
            "4125   27  unemployed    single   tertiary      no   3060.0      no   no   \n",
            "4130   34  unemployed   married  secondary      no    200.0     yes   no   \n",
            "4140   37  unemployed   married  secondary      no   4769.0      no   no   \n",
            "4179   43  unemployed  divorced  secondary      no      0.0     yes   no   \n",
            "4181   46  unemployed   married  secondary      no  16397.0      no   no   \n",
            "4271   49  unemployed   married  secondary      no  13818.0      no   no   \n",
            "4289   27  unemployed    single  secondary      no      0.0     yes   no   \n",
            "4395   26  unemployed   married  secondary      no    285.0     yes   no   \n",
            "\n",
            "        contact  day month  duration  campaign  pdays  previous poutcome  \\\n",
            "74     cellular   31   jul        40        10     -1         0  unknown   \n",
            "304     unknown    9   may       241         2     -1         0  unknown   \n",
            "404    cellular   20   nov       231         2     -1         0  unknown   \n",
            "464    cellular    5   feb       124         2     -1         0  unknown   \n",
            "494    cellular   19   nov       782         2     -1         0  unknown   \n",
            "550   telephone   28   jan       201         2     -1         0  unknown   \n",
            "644    cellular   13   may       409         2     -1         0  unknown   \n",
            "690    cellular   20   nov       316         1     -1         0  unknown   \n",
            "705    cellular   28   jan        97         1    169         3  failure   \n",
            "811     unknown   26   jul        84         1     -1         0  unknown   \n",
            "821    cellular   18   nov       202         2     -1         0  unknown   \n",
            "827    cellular    8   aug        93         1     -1         0  unknown   \n",
            "856   telephone   18   nov        52         1     -1         0  unknown   \n",
            "966     unknown   27   may       179         3     -1         0  unknown   \n",
            "967    cellular   25   jun       131         1    388         1  failure   \n",
            "1003  telephone   14   apr       266         3     -1         0  unknown   \n",
            "1123    unknown   13   may       342         3     -1         0  unknown   \n",
            "1236   cellular   13   nov       131         2    197         1  success   \n",
            "1351   cellular   21   jul       105         2     -1         0  unknown   \n",
            "1424    unknown   14   may       163         5     -1         0  unknown   \n",
            "1633   cellular   20   nov       137         1     -1         0  unknown   \n",
            "1828   cellular    6   may       193         1     -1         0  unknown   \n",
            "1848   cellular   29   jul       271         1     -1         0  unknown   \n",
            "1850    unknown   20   may       350         4     -1         0  unknown   \n",
            "1961  telephone   29   jul       246         2     -1         0  unknown   \n",
            "2060    unknown    8   may       221         4     -1         0  unknown   \n",
            "2184    unknown   19   jun       196         2     -1         0  unknown   \n",
            "2292   cellular   26   may       260         2     -1         0  unknown   \n",
            "2308   cellular   31   jul        29        10     -1         0  unknown   \n",
            "2364  telephone    4   feb       125         1     -1         0  unknown   \n",
            "2464   cellular    8   jul       108         1     -1         0  unknown   \n",
            "2513   cellular   28   jan        70         1     -1         0  unknown   \n",
            "2603   cellular    5   feb       251         1     -1         0  unknown   \n",
            "2681   cellular   24   aug        87         2     -1         0  unknown   \n",
            "2699   cellular   18   jul        90         1     -1         0  unknown   \n",
            "2754    unknown    6   may       278         1     -1         0  unknown   \n",
            "2762   cellular   14   aug        98         1    106         1  failure   \n",
            "2827   cellular    5   feb        81         1     -1         0  unknown   \n",
            "2913    unknown    5   jun       105         3     -1         0  unknown   \n",
            "2929   cellular   17   nov       148         2     -1         0  unknown   \n",
            "3145  telephone    6   feb        18         6     -1         0  unknown   \n",
            "3263   cellular   18   nov       144         1     -1         0  unknown   \n",
            "3313   cellular   18   may       182         1     -1         0  unknown   \n",
            "3556    unknown    5   may       357         1     -1         0  unknown   \n",
            "3704   cellular    4   feb      1086         1     -1         0  unknown   \n",
            "3733   cellular   30   jul       638         3     -1         0  unknown   \n",
            "3745   cellular    1   jun       161         2     -1         0  unknown   \n",
            "3905   cellular   15   jun        92         1    301         6  failure   \n",
            "3949    unknown   29   may       195         2     -1         0  unknown   \n",
            "4027   cellular    3   feb       225         4     -1         0  unknown   \n",
            "4066   cellular    8   oct       113         1     -1         0  unknown   \n",
            "4102   cellular   16   apr       137         1     -1         0  unknown   \n",
            "4125   cellular   30   jan       533         1     -1         0  unknown   \n",
            "4130    unknown   26   may       155         6     -1         0  unknown   \n",
            "4140   cellular   29   jan       124         1     -1         0  unknown   \n",
            "4179   cellular   24   jul       229         2     -1         0  unknown   \n",
            "4181   cellular   18   nov       641         1     -1         0  unknown   \n",
            "4271   cellular   21   nov       201         1    113         2  failure   \n",
            "4289   cellular   21   jul        53         6     -1         0  unknown   \n",
            "4395   cellular    6   may       265         2    342         2  failure   \n",
            "\n",
            "     deposit  \n",
            "74        no  \n",
            "304       no  \n",
            "404       no  \n",
            "464       no  \n",
            "494       no  \n",
            "550       no  \n",
            "644       no  \n",
            "690       no  \n",
            "705       no  \n",
            "811       no  \n",
            "821       no  \n",
            "827       no  \n",
            "856       no  \n",
            "966       no  \n",
            "967       no  \n",
            "1003      no  \n",
            "1123      no  \n",
            "1236      no  \n",
            "1351      no  \n",
            "1424      no  \n",
            "1633      no  \n",
            "1828      no  \n",
            "1848      no  \n",
            "1850      no  \n",
            "1961      no  \n",
            "2060      no  \n",
            "2184      no  \n",
            "2292      no  \n",
            "2308      no  \n",
            "2364      no  \n",
            "2464      no  \n",
            "2513      no  \n",
            "2603      no  \n",
            "2681      no  \n",
            "2699      no  \n",
            "2754      no  \n",
            "2762      no  \n",
            "2827      no  \n",
            "2913      no  \n",
            "2929      no  \n",
            "3145      no  \n",
            "3263      no  \n",
            "3313      no  \n",
            "3556      no  \n",
            "3704      no  \n",
            "3733      no  \n",
            "3745      no  \n",
            "3905      no  \n",
            "3949      no  \n",
            "4027      no  \n",
            "4066      no  \n",
            "4102      no  \n",
            "4125      no  \n",
            "4130      no  \n",
            "4140      no  \n",
            "4179      no  \n",
            "4181      no  \n",
            "4271      no  \n",
            "4289      no  \n",
            "4395      no  \n"
          ]
        }
      ]
    },
    {
      "cell_type": "code",
      "source": [
        "import pandas as pd\n",
        "\n",
        "from google.colab import drive\n",
        "drive.mount('/content/drive')\n",
        "\n",
        "\n",
        "df=pd.read_csv('/content/drive/MyDrive/bank_train.csv')"
      ],
      "metadata": {
        "id": "hBF2O3gMFP18",
        "outputId": "f193d63a-d886-4e03-9c8e-a279f25a31f0",
        "colab": {
          "base_uri": "https://localhost:8080/"
        }
      },
      "execution_count": 8,
      "outputs": [
        {
          "output_type": "stream",
          "name": "stdout",
          "text": [
            "Drive already mounted at /content/drive; to attempt to forcibly remount, call drive.mount(\"/content/drive\", force_remount=True).\n"
          ]
        }
      ]
    },
    {
      "cell_type": "code",
      "source": [
        "education_balance=df.loc[df['age']<=30,['education','balance']]\n",
        "print(\"e.education_balance:\\n\",education_balance)"
      ],
      "metadata": {
        "id": "OCercxxrFUjs",
        "outputId": "226988e8-9376-480b-ba35-ebb6d1ab27cc",
        "colab": {
          "base_uri": "https://localhost:8080/"
        }
      },
      "execution_count": 9,
      "outputs": [
        {
          "output_type": "stream",
          "name": "stdout",
          "text": [
            "e.education_balance:\n",
            "       education  balance\n",
            "17     tertiary      0.0\n",
            "22      primary    544.0\n",
            "26    secondary     30.0\n",
            "27    secondary    195.0\n",
            "40    secondary    743.0\n",
            "...         ...      ...\n",
            "4440   tertiary    674.0\n",
            "4448  secondary    535.0\n",
            "4449  secondary     81.0\n",
            "4454  secondary    155.0\n",
            "4455   tertiary    265.0\n",
            "\n",
            "[809 rows x 2 columns]\n"
          ]
        }
      ]
    }
  ]
}